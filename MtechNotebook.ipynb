{
  "cells": [
    {
      "cell_type": "markdown",
      "source": [
        "#M.Tech тестовое задание на вакансию стажера Data science"
      ],
      "metadata": {
        "id": "fRKQK2TKPjuW"
      },
      "id": "fRKQK2TKPjuW"
    },
    {
      "cell_type": "markdown",
      "source": [
        "Формулировка задания:\n",
        "\n",
        " Руководство компании обратило внимание на то, что сотрудники старше 35\n",
        "лет болеют чаще, чем более молодые сотрудники. Кроме этого, среди мужчин\n",
        "количество пропусков рабочих дней в связи с больничным выше, чем среди женщин.\n",
        "В связи с этой ситуацией, руководство организации планирует ввести\n",
        "дополнительные медицинские осмотры среди групп риска.\n",
        "Вам необходимо проверить следующие гипотезы:\n",
        "\n",
        "\n",
        "1) Мужчины пропускают в течение года более 2 рабочих дней (work_days) по\n",
        "болезни значимо чаще женщин.\n",
        "\n",
        "\n",
        "2) Работники старше 35 лет (age) пропускают в течение года более 2 рабочих\n",
        "дней (work_days) по болезни значимо чаще своих более молодых коллег."
      ],
      "metadata": {
        "id": "DUPAK8idPtB1"
      },
      "id": "DUPAK8idPtB1"
    },
    {
      "cell_type": "markdown",
      "source": [
        "##Изучаем пролученнные данные"
      ],
      "metadata": {
        "id": "SAbEtPj3QAMt"
      },
      "id": "SAbEtPj3QAMt"
    },
    {
      "cell_type": "code",
      "execution_count": 12,
      "id": "74c8d666",
      "metadata": {
        "id": "74c8d666"
      },
      "outputs": [],
      "source": [
        "import pandas as pd\n",
        "import matplotlib.pyplot as plt\n",
        "import seaborn as sns\n",
        "from scipy import stats\n",
        "import numpy as np"
      ]
    },
    {
      "cell_type": "code",
      "execution_count": 4,
      "id": "8deeb52d",
      "metadata": {
        "colab": {
          "base_uri": "https://localhost:8080/",
          "height": 206
        },
        "id": "8deeb52d",
        "outputId": "774fd55d-d136-46ff-96c4-ffb6b305f979"
      },
      "outputs": [
        {
          "output_type": "execute_result",
          "data": {
            "text/plain": [
              "     Количество больничных дней  Возраст Пол\n",
              "9                             4       36   М\n",
              "216                           3       50   М\n",
              "148                           4       43   Ж\n",
              "69                            5       32   М\n",
              "128                           2       43   М"
            ],
            "text/html": [
              "\n",
              "  <div id=\"df-f2079a83-f607-480a-a39a-bff986df12c4\" class=\"colab-df-container\">\n",
              "    <div>\n",
              "<style scoped>\n",
              "    .dataframe tbody tr th:only-of-type {\n",
              "        vertical-align: middle;\n",
              "    }\n",
              "\n",
              "    .dataframe tbody tr th {\n",
              "        vertical-align: top;\n",
              "    }\n",
              "\n",
              "    .dataframe thead th {\n",
              "        text-align: right;\n",
              "    }\n",
              "</style>\n",
              "<table border=\"1\" class=\"dataframe\">\n",
              "  <thead>\n",
              "    <tr style=\"text-align: right;\">\n",
              "      <th></th>\n",
              "      <th>Количество больничных дней</th>\n",
              "      <th>Возраст</th>\n",
              "      <th>Пол</th>\n",
              "    </tr>\n",
              "  </thead>\n",
              "  <tbody>\n",
              "    <tr>\n",
              "      <th>9</th>\n",
              "      <td>4</td>\n",
              "      <td>36</td>\n",
              "      <td>М</td>\n",
              "    </tr>\n",
              "    <tr>\n",
              "      <th>216</th>\n",
              "      <td>3</td>\n",
              "      <td>50</td>\n",
              "      <td>М</td>\n",
              "    </tr>\n",
              "    <tr>\n",
              "      <th>148</th>\n",
              "      <td>4</td>\n",
              "      <td>43</td>\n",
              "      <td>Ж</td>\n",
              "    </tr>\n",
              "    <tr>\n",
              "      <th>69</th>\n",
              "      <td>5</td>\n",
              "      <td>32</td>\n",
              "      <td>М</td>\n",
              "    </tr>\n",
              "    <tr>\n",
              "      <th>128</th>\n",
              "      <td>2</td>\n",
              "      <td>43</td>\n",
              "      <td>М</td>\n",
              "    </tr>\n",
              "  </tbody>\n",
              "</table>\n",
              "</div>\n",
              "    <div class=\"colab-df-buttons\">\n",
              "\n",
              "  <div class=\"colab-df-container\">\n",
              "    <button class=\"colab-df-convert\" onclick=\"convertToInteractive('df-f2079a83-f607-480a-a39a-bff986df12c4')\"\n",
              "            title=\"Convert this dataframe to an interactive table.\"\n",
              "            style=\"display:none;\">\n",
              "\n",
              "  <svg xmlns=\"http://www.w3.org/2000/svg\" height=\"24px\" viewBox=\"0 -960 960 960\">\n",
              "    <path d=\"M120-120v-720h720v720H120Zm60-500h600v-160H180v160Zm220 220h160v-160H400v160Zm0 220h160v-160H400v160ZM180-400h160v-160H180v160Zm440 0h160v-160H620v160ZM180-180h160v-160H180v160Zm440 0h160v-160H620v160Z\"/>\n",
              "  </svg>\n",
              "    </button>\n",
              "\n",
              "  <style>\n",
              "    .colab-df-container {\n",
              "      display:flex;\n",
              "      gap: 12px;\n",
              "    }\n",
              "\n",
              "    .colab-df-convert {\n",
              "      background-color: #E8F0FE;\n",
              "      border: none;\n",
              "      border-radius: 50%;\n",
              "      cursor: pointer;\n",
              "      display: none;\n",
              "      fill: #1967D2;\n",
              "      height: 32px;\n",
              "      padding: 0 0 0 0;\n",
              "      width: 32px;\n",
              "    }\n",
              "\n",
              "    .colab-df-convert:hover {\n",
              "      background-color: #E2EBFA;\n",
              "      box-shadow: 0px 1px 2px rgba(60, 64, 67, 0.3), 0px 1px 3px 1px rgba(60, 64, 67, 0.15);\n",
              "      fill: #174EA6;\n",
              "    }\n",
              "\n",
              "    .colab-df-buttons div {\n",
              "      margin-bottom: 4px;\n",
              "    }\n",
              "\n",
              "    [theme=dark] .colab-df-convert {\n",
              "      background-color: #3B4455;\n",
              "      fill: #D2E3FC;\n",
              "    }\n",
              "\n",
              "    [theme=dark] .colab-df-convert:hover {\n",
              "      background-color: #434B5C;\n",
              "      box-shadow: 0px 1px 3px 1px rgba(0, 0, 0, 0.15);\n",
              "      filter: drop-shadow(0px 1px 2px rgba(0, 0, 0, 0.3));\n",
              "      fill: #FFFFFF;\n",
              "    }\n",
              "  </style>\n",
              "\n",
              "    <script>\n",
              "      const buttonEl =\n",
              "        document.querySelector('#df-f2079a83-f607-480a-a39a-bff986df12c4 button.colab-df-convert');\n",
              "      buttonEl.style.display =\n",
              "        google.colab.kernel.accessAllowed ? 'block' : 'none';\n",
              "\n",
              "      async function convertToInteractive(key) {\n",
              "        const element = document.querySelector('#df-f2079a83-f607-480a-a39a-bff986df12c4');\n",
              "        const dataTable =\n",
              "          await google.colab.kernel.invokeFunction('convertToInteractive',\n",
              "                                                    [key], {});\n",
              "        if (!dataTable) return;\n",
              "\n",
              "        const docLinkHtml = 'Like what you see? Visit the ' +\n",
              "          '<a target=\"_blank\" href=https://colab.research.google.com/notebooks/data_table.ipynb>data table notebook</a>'\n",
              "          + ' to learn more about interactive tables.';\n",
              "        element.innerHTML = '';\n",
              "        dataTable['output_type'] = 'display_data';\n",
              "        await google.colab.output.renderOutput(dataTable, element);\n",
              "        const docLink = document.createElement('div');\n",
              "        docLink.innerHTML = docLinkHtml;\n",
              "        element.appendChild(docLink);\n",
              "      }\n",
              "    </script>\n",
              "  </div>\n",
              "\n",
              "\n",
              "<div id=\"df-f376c189-1b0f-4dbf-a013-a813f54fcaba\">\n",
              "  <button class=\"colab-df-quickchart\" onclick=\"quickchart('df-f376c189-1b0f-4dbf-a013-a813f54fcaba')\"\n",
              "            title=\"Suggest charts\"\n",
              "            style=\"display:none;\">\n",
              "\n",
              "<svg xmlns=\"http://www.w3.org/2000/svg\" height=\"24px\"viewBox=\"0 0 24 24\"\n",
              "     width=\"24px\">\n",
              "    <g>\n",
              "        <path d=\"M19 3H5c-1.1 0-2 .9-2 2v14c0 1.1.9 2 2 2h14c1.1 0 2-.9 2-2V5c0-1.1-.9-2-2-2zM9 17H7v-7h2v7zm4 0h-2V7h2v10zm4 0h-2v-4h2v4z\"/>\n",
              "    </g>\n",
              "</svg>\n",
              "  </button>\n",
              "\n",
              "<style>\n",
              "  .colab-df-quickchart {\n",
              "      --bg-color: #E8F0FE;\n",
              "      --fill-color: #1967D2;\n",
              "      --hover-bg-color: #E2EBFA;\n",
              "      --hover-fill-color: #174EA6;\n",
              "      --disabled-fill-color: #AAA;\n",
              "      --disabled-bg-color: #DDD;\n",
              "  }\n",
              "\n",
              "  [theme=dark] .colab-df-quickchart {\n",
              "      --bg-color: #3B4455;\n",
              "      --fill-color: #D2E3FC;\n",
              "      --hover-bg-color: #434B5C;\n",
              "      --hover-fill-color: #FFFFFF;\n",
              "      --disabled-bg-color: #3B4455;\n",
              "      --disabled-fill-color: #666;\n",
              "  }\n",
              "\n",
              "  .colab-df-quickchart {\n",
              "    background-color: var(--bg-color);\n",
              "    border: none;\n",
              "    border-radius: 50%;\n",
              "    cursor: pointer;\n",
              "    display: none;\n",
              "    fill: var(--fill-color);\n",
              "    height: 32px;\n",
              "    padding: 0;\n",
              "    width: 32px;\n",
              "  }\n",
              "\n",
              "  .colab-df-quickchart:hover {\n",
              "    background-color: var(--hover-bg-color);\n",
              "    box-shadow: 0 1px 2px rgba(60, 64, 67, 0.3), 0 1px 3px 1px rgba(60, 64, 67, 0.15);\n",
              "    fill: var(--button-hover-fill-color);\n",
              "  }\n",
              "\n",
              "  .colab-df-quickchart-complete:disabled,\n",
              "  .colab-df-quickchart-complete:disabled:hover {\n",
              "    background-color: var(--disabled-bg-color);\n",
              "    fill: var(--disabled-fill-color);\n",
              "    box-shadow: none;\n",
              "  }\n",
              "\n",
              "  .colab-df-spinner {\n",
              "    border: 2px solid var(--fill-color);\n",
              "    border-color: transparent;\n",
              "    border-bottom-color: var(--fill-color);\n",
              "    animation:\n",
              "      spin 1s steps(1) infinite;\n",
              "  }\n",
              "\n",
              "  @keyframes spin {\n",
              "    0% {\n",
              "      border-color: transparent;\n",
              "      border-bottom-color: var(--fill-color);\n",
              "      border-left-color: var(--fill-color);\n",
              "    }\n",
              "    20% {\n",
              "      border-color: transparent;\n",
              "      border-left-color: var(--fill-color);\n",
              "      border-top-color: var(--fill-color);\n",
              "    }\n",
              "    30% {\n",
              "      border-color: transparent;\n",
              "      border-left-color: var(--fill-color);\n",
              "      border-top-color: var(--fill-color);\n",
              "      border-right-color: var(--fill-color);\n",
              "    }\n",
              "    40% {\n",
              "      border-color: transparent;\n",
              "      border-right-color: var(--fill-color);\n",
              "      border-top-color: var(--fill-color);\n",
              "    }\n",
              "    60% {\n",
              "      border-color: transparent;\n",
              "      border-right-color: var(--fill-color);\n",
              "    }\n",
              "    80% {\n",
              "      border-color: transparent;\n",
              "      border-right-color: var(--fill-color);\n",
              "      border-bottom-color: var(--fill-color);\n",
              "    }\n",
              "    90% {\n",
              "      border-color: transparent;\n",
              "      border-bottom-color: var(--fill-color);\n",
              "    }\n",
              "  }\n",
              "</style>\n",
              "\n",
              "  <script>\n",
              "    async function quickchart(key) {\n",
              "      const quickchartButtonEl =\n",
              "        document.querySelector('#' + key + ' button');\n",
              "      quickchartButtonEl.disabled = true;  // To prevent multiple clicks.\n",
              "      quickchartButtonEl.classList.add('colab-df-spinner');\n",
              "      try {\n",
              "        const charts = await google.colab.kernel.invokeFunction(\n",
              "            'suggestCharts', [key], {});\n",
              "      } catch (error) {\n",
              "        console.error('Error during call to suggestCharts:', error);\n",
              "      }\n",
              "      quickchartButtonEl.classList.remove('colab-df-spinner');\n",
              "      quickchartButtonEl.classList.add('colab-df-quickchart-complete');\n",
              "    }\n",
              "    (() => {\n",
              "      let quickchartButtonEl =\n",
              "        document.querySelector('#df-f376c189-1b0f-4dbf-a013-a813f54fcaba button');\n",
              "      quickchartButtonEl.style.display =\n",
              "        google.colab.kernel.accessAllowed ? 'block' : 'none';\n",
              "    })();\n",
              "  </script>\n",
              "</div>\n",
              "    </div>\n",
              "  </div>\n"
            ]
          },
          "metadata": {},
          "execution_count": 4
        }
      ],
      "source": [
        "data = pd.read_csv(\"stats.csv\")\n",
        "data.columns = ['Количество больничных дней', 'Возраст', 'Пол']\n",
        "data.sample(5)"
      ]
    },
    {
      "cell_type": "code",
      "execution_count": 5,
      "id": "36807a5c",
      "metadata": {
        "colab": {
          "base_uri": "https://localhost:8080/"
        },
        "id": "36807a5c",
        "outputId": "38ab9f1b-e1df-4d6a-89d2-c216927c8137"
      },
      "outputs": [
        {
          "output_type": "execute_result",
          "data": {
            "text/plain": [
              "Количество больничных дней     int64\n",
              "Возраст                        int64\n",
              "Пол                           object\n",
              "dtype: object"
            ]
          },
          "metadata": {},
          "execution_count": 5
        }
      ],
      "source": [
        "data.dtypes"
      ]
    },
    {
      "cell_type": "code",
      "execution_count": 6,
      "id": "ce636ff8",
      "metadata": {
        "colab": {
          "base_uri": "https://localhost:8080/",
          "height": 300
        },
        "id": "ce636ff8",
        "outputId": "0e83b1d8-44d1-445a-89f6-1855078d1be7"
      },
      "outputs": [
        {
          "output_type": "execute_result",
          "data": {
            "text/plain": [
              "       Количество больничных дней     Возраст\n",
              "count                  237.000000  237.000000\n",
              "mean                     3.257384   40.181435\n",
              "std                      1.807821    6.875157\n",
              "min                      0.000000   23.000000\n",
              "25%                      2.000000   36.000000\n",
              "50%                      3.000000   41.000000\n",
              "75%                      4.000000   45.000000\n",
              "max                      8.000000   60.000000"
            ],
            "text/html": [
              "\n",
              "  <div id=\"df-8273a0e3-885c-4ee7-b42b-f2ac44fdc47a\" class=\"colab-df-container\">\n",
              "    <div>\n",
              "<style scoped>\n",
              "    .dataframe tbody tr th:only-of-type {\n",
              "        vertical-align: middle;\n",
              "    }\n",
              "\n",
              "    .dataframe tbody tr th {\n",
              "        vertical-align: top;\n",
              "    }\n",
              "\n",
              "    .dataframe thead th {\n",
              "        text-align: right;\n",
              "    }\n",
              "</style>\n",
              "<table border=\"1\" class=\"dataframe\">\n",
              "  <thead>\n",
              "    <tr style=\"text-align: right;\">\n",
              "      <th></th>\n",
              "      <th>Количество больничных дней</th>\n",
              "      <th>Возраст</th>\n",
              "    </tr>\n",
              "  </thead>\n",
              "  <tbody>\n",
              "    <tr>\n",
              "      <th>count</th>\n",
              "      <td>237.000000</td>\n",
              "      <td>237.000000</td>\n",
              "    </tr>\n",
              "    <tr>\n",
              "      <th>mean</th>\n",
              "      <td>3.257384</td>\n",
              "      <td>40.181435</td>\n",
              "    </tr>\n",
              "    <tr>\n",
              "      <th>std</th>\n",
              "      <td>1.807821</td>\n",
              "      <td>6.875157</td>\n",
              "    </tr>\n",
              "    <tr>\n",
              "      <th>min</th>\n",
              "      <td>0.000000</td>\n",
              "      <td>23.000000</td>\n",
              "    </tr>\n",
              "    <tr>\n",
              "      <th>25%</th>\n",
              "      <td>2.000000</td>\n",
              "      <td>36.000000</td>\n",
              "    </tr>\n",
              "    <tr>\n",
              "      <th>50%</th>\n",
              "      <td>3.000000</td>\n",
              "      <td>41.000000</td>\n",
              "    </tr>\n",
              "    <tr>\n",
              "      <th>75%</th>\n",
              "      <td>4.000000</td>\n",
              "      <td>45.000000</td>\n",
              "    </tr>\n",
              "    <tr>\n",
              "      <th>max</th>\n",
              "      <td>8.000000</td>\n",
              "      <td>60.000000</td>\n",
              "    </tr>\n",
              "  </tbody>\n",
              "</table>\n",
              "</div>\n",
              "    <div class=\"colab-df-buttons\">\n",
              "\n",
              "  <div class=\"colab-df-container\">\n",
              "    <button class=\"colab-df-convert\" onclick=\"convertToInteractive('df-8273a0e3-885c-4ee7-b42b-f2ac44fdc47a')\"\n",
              "            title=\"Convert this dataframe to an interactive table.\"\n",
              "            style=\"display:none;\">\n",
              "\n",
              "  <svg xmlns=\"http://www.w3.org/2000/svg\" height=\"24px\" viewBox=\"0 -960 960 960\">\n",
              "    <path d=\"M120-120v-720h720v720H120Zm60-500h600v-160H180v160Zm220 220h160v-160H400v160Zm0 220h160v-160H400v160ZM180-400h160v-160H180v160Zm440 0h160v-160H620v160ZM180-180h160v-160H180v160Zm440 0h160v-160H620v160Z\"/>\n",
              "  </svg>\n",
              "    </button>\n",
              "\n",
              "  <style>\n",
              "    .colab-df-container {\n",
              "      display:flex;\n",
              "      gap: 12px;\n",
              "    }\n",
              "\n",
              "    .colab-df-convert {\n",
              "      background-color: #E8F0FE;\n",
              "      border: none;\n",
              "      border-radius: 50%;\n",
              "      cursor: pointer;\n",
              "      display: none;\n",
              "      fill: #1967D2;\n",
              "      height: 32px;\n",
              "      padding: 0 0 0 0;\n",
              "      width: 32px;\n",
              "    }\n",
              "\n",
              "    .colab-df-convert:hover {\n",
              "      background-color: #E2EBFA;\n",
              "      box-shadow: 0px 1px 2px rgba(60, 64, 67, 0.3), 0px 1px 3px 1px rgba(60, 64, 67, 0.15);\n",
              "      fill: #174EA6;\n",
              "    }\n",
              "\n",
              "    .colab-df-buttons div {\n",
              "      margin-bottom: 4px;\n",
              "    }\n",
              "\n",
              "    [theme=dark] .colab-df-convert {\n",
              "      background-color: #3B4455;\n",
              "      fill: #D2E3FC;\n",
              "    }\n",
              "\n",
              "    [theme=dark] .colab-df-convert:hover {\n",
              "      background-color: #434B5C;\n",
              "      box-shadow: 0px 1px 3px 1px rgba(0, 0, 0, 0.15);\n",
              "      filter: drop-shadow(0px 1px 2px rgba(0, 0, 0, 0.3));\n",
              "      fill: #FFFFFF;\n",
              "    }\n",
              "  </style>\n",
              "\n",
              "    <script>\n",
              "      const buttonEl =\n",
              "        document.querySelector('#df-8273a0e3-885c-4ee7-b42b-f2ac44fdc47a button.colab-df-convert');\n",
              "      buttonEl.style.display =\n",
              "        google.colab.kernel.accessAllowed ? 'block' : 'none';\n",
              "\n",
              "      async function convertToInteractive(key) {\n",
              "        const element = document.querySelector('#df-8273a0e3-885c-4ee7-b42b-f2ac44fdc47a');\n",
              "        const dataTable =\n",
              "          await google.colab.kernel.invokeFunction('convertToInteractive',\n",
              "                                                    [key], {});\n",
              "        if (!dataTable) return;\n",
              "\n",
              "        const docLinkHtml = 'Like what you see? Visit the ' +\n",
              "          '<a target=\"_blank\" href=https://colab.research.google.com/notebooks/data_table.ipynb>data table notebook</a>'\n",
              "          + ' to learn more about interactive tables.';\n",
              "        element.innerHTML = '';\n",
              "        dataTable['output_type'] = 'display_data';\n",
              "        await google.colab.output.renderOutput(dataTable, element);\n",
              "        const docLink = document.createElement('div');\n",
              "        docLink.innerHTML = docLinkHtml;\n",
              "        element.appendChild(docLink);\n",
              "      }\n",
              "    </script>\n",
              "  </div>\n",
              "\n",
              "\n",
              "<div id=\"df-5b9c5639-f0a2-4a27-b586-089e5401fda5\">\n",
              "  <button class=\"colab-df-quickchart\" onclick=\"quickchart('df-5b9c5639-f0a2-4a27-b586-089e5401fda5')\"\n",
              "            title=\"Suggest charts\"\n",
              "            style=\"display:none;\">\n",
              "\n",
              "<svg xmlns=\"http://www.w3.org/2000/svg\" height=\"24px\"viewBox=\"0 0 24 24\"\n",
              "     width=\"24px\">\n",
              "    <g>\n",
              "        <path d=\"M19 3H5c-1.1 0-2 .9-2 2v14c0 1.1.9 2 2 2h14c1.1 0 2-.9 2-2V5c0-1.1-.9-2-2-2zM9 17H7v-7h2v7zm4 0h-2V7h2v10zm4 0h-2v-4h2v4z\"/>\n",
              "    </g>\n",
              "</svg>\n",
              "  </button>\n",
              "\n",
              "<style>\n",
              "  .colab-df-quickchart {\n",
              "      --bg-color: #E8F0FE;\n",
              "      --fill-color: #1967D2;\n",
              "      --hover-bg-color: #E2EBFA;\n",
              "      --hover-fill-color: #174EA6;\n",
              "      --disabled-fill-color: #AAA;\n",
              "      --disabled-bg-color: #DDD;\n",
              "  }\n",
              "\n",
              "  [theme=dark] .colab-df-quickchart {\n",
              "      --bg-color: #3B4455;\n",
              "      --fill-color: #D2E3FC;\n",
              "      --hover-bg-color: #434B5C;\n",
              "      --hover-fill-color: #FFFFFF;\n",
              "      --disabled-bg-color: #3B4455;\n",
              "      --disabled-fill-color: #666;\n",
              "  }\n",
              "\n",
              "  .colab-df-quickchart {\n",
              "    background-color: var(--bg-color);\n",
              "    border: none;\n",
              "    border-radius: 50%;\n",
              "    cursor: pointer;\n",
              "    display: none;\n",
              "    fill: var(--fill-color);\n",
              "    height: 32px;\n",
              "    padding: 0;\n",
              "    width: 32px;\n",
              "  }\n",
              "\n",
              "  .colab-df-quickchart:hover {\n",
              "    background-color: var(--hover-bg-color);\n",
              "    box-shadow: 0 1px 2px rgba(60, 64, 67, 0.3), 0 1px 3px 1px rgba(60, 64, 67, 0.15);\n",
              "    fill: var(--button-hover-fill-color);\n",
              "  }\n",
              "\n",
              "  .colab-df-quickchart-complete:disabled,\n",
              "  .colab-df-quickchart-complete:disabled:hover {\n",
              "    background-color: var(--disabled-bg-color);\n",
              "    fill: var(--disabled-fill-color);\n",
              "    box-shadow: none;\n",
              "  }\n",
              "\n",
              "  .colab-df-spinner {\n",
              "    border: 2px solid var(--fill-color);\n",
              "    border-color: transparent;\n",
              "    border-bottom-color: var(--fill-color);\n",
              "    animation:\n",
              "      spin 1s steps(1) infinite;\n",
              "  }\n",
              "\n",
              "  @keyframes spin {\n",
              "    0% {\n",
              "      border-color: transparent;\n",
              "      border-bottom-color: var(--fill-color);\n",
              "      border-left-color: var(--fill-color);\n",
              "    }\n",
              "    20% {\n",
              "      border-color: transparent;\n",
              "      border-left-color: var(--fill-color);\n",
              "      border-top-color: var(--fill-color);\n",
              "    }\n",
              "    30% {\n",
              "      border-color: transparent;\n",
              "      border-left-color: var(--fill-color);\n",
              "      border-top-color: var(--fill-color);\n",
              "      border-right-color: var(--fill-color);\n",
              "    }\n",
              "    40% {\n",
              "      border-color: transparent;\n",
              "      border-right-color: var(--fill-color);\n",
              "      border-top-color: var(--fill-color);\n",
              "    }\n",
              "    60% {\n",
              "      border-color: transparent;\n",
              "      border-right-color: var(--fill-color);\n",
              "    }\n",
              "    80% {\n",
              "      border-color: transparent;\n",
              "      border-right-color: var(--fill-color);\n",
              "      border-bottom-color: var(--fill-color);\n",
              "    }\n",
              "    90% {\n",
              "      border-color: transparent;\n",
              "      border-bottom-color: var(--fill-color);\n",
              "    }\n",
              "  }\n",
              "</style>\n",
              "\n",
              "  <script>\n",
              "    async function quickchart(key) {\n",
              "      const quickchartButtonEl =\n",
              "        document.querySelector('#' + key + ' button');\n",
              "      quickchartButtonEl.disabled = true;  // To prevent multiple clicks.\n",
              "      quickchartButtonEl.classList.add('colab-df-spinner');\n",
              "      try {\n",
              "        const charts = await google.colab.kernel.invokeFunction(\n",
              "            'suggestCharts', [key], {});\n",
              "      } catch (error) {\n",
              "        console.error('Error during call to suggestCharts:', error);\n",
              "      }\n",
              "      quickchartButtonEl.classList.remove('colab-df-spinner');\n",
              "      quickchartButtonEl.classList.add('colab-df-quickchart-complete');\n",
              "    }\n",
              "    (() => {\n",
              "      let quickchartButtonEl =\n",
              "        document.querySelector('#df-5b9c5639-f0a2-4a27-b586-089e5401fda5 button');\n",
              "      quickchartButtonEl.style.display =\n",
              "        google.colab.kernel.accessAllowed ? 'block' : 'none';\n",
              "    })();\n",
              "  </script>\n",
              "</div>\n",
              "    </div>\n",
              "  </div>\n"
            ]
          },
          "metadata": {},
          "execution_count": 6
        }
      ],
      "source": [
        "data.describe()"
      ]
    },
    {
      "cell_type": "markdown",
      "id": "a62ed00b-6d97-4b6f-855c-e8fb3ac39c14",
      "metadata": {
        "tags": [],
        "id": "a62ed00b-6d97-4b6f-855c-e8fb3ac39c14"
      },
      "source": [
        "#### Приступим к рассмотрению 1 гипотезы: Мужчины пропускают в течение года более 2 рабочих дней (work_days) по болезни значимо чаще женщин."
      ]
    },
    {
      "cell_type": "code",
      "execution_count": 8,
      "id": "2992f6de-d15d-4b94-9607-eddc47b71ade",
      "metadata": {
        "colab": {
          "base_uri": "https://localhost:8080/",
          "height": 521
        },
        "id": "2992f6de-d15d-4b94-9607-eddc47b71ade",
        "outputId": "4bfb2ba9-550d-4683-a3d7-216e8fe1554c"
      },
      "outputs": [
        {
          "output_type": "display_data",
          "data": {
            "text/plain": [
              "<Figure size 800x600 with 1 Axes>"
            ],
            "image/png": "[encoded data removed]"
          },
          "metadata": {}
        }
      ],
      "source": [
        "plt.figure(figsize=(8, 6))\n",
        "data['Пол'].value_counts().plot.pie()\n",
        "plt.title('Колличественное отношение классов')\n",
        "plt.show()"
      ]
    },
    {
      "cell_type": "code",
      "execution_count": 9,
      "id": "c606686e-722e-4dc0-95f9-96f03d7280c3",
      "metadata": {
        "id": "c606686e-722e-4dc0-95f9-96f03d7280c3"
      },
      "outputs": [],
      "source": [
        "M = data[data['Пол'] == 'М']['Количество больничных дней']\n",
        "W = data[data['Пол'] == 'Ж']['Количество больничных дней']\n",
        "\n",
        "M.name = 'Мужчины'\n",
        "W.name = 'Женщины'"
      ]
    },
    {
      "cell_type": "markdown",
      "source": [
        "###Проводим тест Шапиро-Уилка"
      ],
      "metadata": {
        "id": "cCzG89xVKz8d"
      },
      "id": "cCzG89xVKz8d"
    },
    {
      "cell_type": "code",
      "execution_count": 13,
      "id": "d233519c-8ce2-47b4-a795-e2258566bc89",
      "metadata": {
        "colab": {
          "base_uri": "https://localhost:8080/"
        },
        "id": "d233519c-8ce2-47b4-a795-e2258566bc89",
        "outputId": "8da45328-514c-4cdf-80d8-31377cf1bc6e"
      },
      "outputs": [
        {
          "output_type": "stream",
          "name": "stdout",
          "text": [
            "p-value: 1.3017996025155298e-05\n",
            "p-value: 0.000837339146528393\n"
          ]
        }
      ],
      "source": [
        "res = stats.shapiro(M)\n",
        "print('p-value:', res[1])\n",
        "\n",
        "res = stats.shapiro(W)\n",
        "print('p-value:', res[1])"
      ]
    },
    {
      "cell_type": "code",
      "source": [
        "def two_hist(x: pd.DataFrame, y: pd.DataFrame, name: str):\n",
        "  \"\"\"\n",
        "  Функция выводит 2 гистограммы на одной фигуре.\n",
        "  x - данные для 1 гист.\n",
        "  y - данные для 2 гист.\n",
        "  name - по какому признаку разделены данные. Выводится в titile.\n",
        "  \"\"\"\n",
        "  plt.figure(figsize=(8, 6))\n",
        "  x.plot.hist(alpha=0.5, bins=9)\n",
        "  y.plot.hist(alpha=0.5, bins=9)\n",
        "  plt.axvline(x.mean(), color='blue', linestyle='dashed')\n",
        "  plt.axvline(y.mean(), color='red', linestyle='dashed')\n",
        "  plt.ylabel('Сотрудников')\n",
        "  plt.title(f'Распределение пропущенных дней по {name} категориально')\n",
        "  plt.legend([x.name, y.name, f'Среднее бол. д. {x.name}', f'Среднее бол. д. {y.name}'])\n",
        "  plt.show()\n"
      ],
      "metadata": {
        "id": "Ht6_K8D_LZrO"
      },
      "id": "Ht6_K8D_LZrO",
      "execution_count": 15,
      "outputs": []
    },
    {
      "cell_type": "code",
      "source": [
        "two_hist(M, W, 'полу')"
      ],
      "metadata": {
        "colab": {
          "base_uri": "https://localhost:8080/",
          "height": 545
        },
        "id": "1Ixo98p2LbRe",
        "outputId": "173603ea-3eee-4e47-bc5b-d3e9e61f813f"
      },
      "id": "1Ixo98p2LbRe",
      "execution_count": 16,
      "outputs": [
        {
          "output_type": "display_data",
          "data": {
            "text/plain": [
              "<Figure size 800x600 with 1 Axes>"
            ],
            "image/png": "[encoded data removed]"
          },
          "metadata": {}
        }
      ]
    },
    {
      "cell_type": "markdown",
      "source": [
        "Однако рапредление не сильно отличное от нормального"
      ],
      "metadata": {
        "id": "wKiTVnMsLklm"
      },
      "id": "wKiTVnMsLklm"
    },
    {
      "cell_type": "markdown",
      "source": [
        "###Проверим равенство дисперсии генеральных совокупностей\n",
        "\n"
      ],
      "metadata": {
        "id": "t_5N92TeLvDt"
      },
      "id": "t_5N92TeLvDt"
    },
    {
      "cell_type": "code",
      "source": [
        "res = stats.fligner(M, W)\n",
        "print('p-value:', res[1])"
      ],
      "metadata": {
        "colab": {
          "base_uri": "https://localhost:8080/"
        },
        "id": "MeoGZqXLLqI9",
        "outputId": "351b99a4-b3e9-42de-e4e7-ebed922fa5c7"
      },
      "id": "MeoGZqXLLqI9",
      "execution_count": 17,
      "outputs": [
        {
          "output_type": "stream",
          "name": "stdout",
          "text": [
            "p-value: 0.521300054528677\n"
          ]
        }
      ]
    },
    {
      "cell_type": "markdown",
      "source": [
        "Мы можем утверждать что дисперсиии равны"
      ],
      "metadata": {
        "id": "mNah2YRTL0q1"
      },
      "id": "mNah2YRTL0q1"
    },
    {
      "cell_type": "code",
      "source": [
        "res = stats.ttest_ind(M, W)\n",
        "print('p-value:', res[1])"
      ],
      "metadata": {
        "colab": {
          "base_uri": "https://localhost:8080/"
        },
        "id": "EacLZyg8MZsl",
        "outputId": "aa4859f8-c5ea-45ca-9f82-551ed2bbd775"
      },
      "id": "EacLZyg8MZsl",
      "execution_count": 18,
      "outputs": [
        {
          "output_type": "stream",
          "name": "stdout",
          "text": [
            "p-value: 0.4328754720595044\n"
          ]
        }
      ]
    },
    {
      "cell_type": "markdown",
      "source": [
        "###Проведем t-тестирование."
      ],
      "metadata": {
        "id": "bO5QXetRMNWO"
      },
      "id": "bO5QXetRMNWO"
    },
    {
      "cell_type": "markdown",
      "id": "164582ce-84fc-4e46-989a-365dc6e2919e",
      "metadata": {
        "tags": [],
        "id": "164582ce-84fc-4e46-989a-365dc6e2919e"
      },
      "source": [
        "##### Произведем сравнение средних по T-критерию\n",
        "\n",
        "Так как выборки независимы:\n",
        "\n",
        "1 выборка - мужчины, 2 выборка - женщины.\n",
        "\n",
        "Выборки: $X_{11}, ... , X_{1N1} \\sim N(\\mu_{1}, \\sigma_{1}), X_{21}, ... , X_{2N2} \\sim N(\\mu_{2}, \\sigma_{2}),  \n",
        " \\sigma_{1}, \\sigma_{2}$ - не известны\n",
        "\n",
        "Пусть, мат. ожидание первой выборки - это $μ_{1}$, а мат. ожидание второй выборки - это $μ_{2}$.\n",
        "\n",
        "Выдвинем нулевую гипотезу: $μ_{1} \\le μ_{2}$\n",
        "\n",
        "Соответственно, альтернативная гипотеза: $μ_{1}$ > $μ_{2}$\n",
        "\n",
        "Статистика $T_{N}$: $$T_{N}=\\frac{\\overline{X_{1}}-\\overline{X_{2}}}{\\sqrt{\\frac{S_{1}^{2}}{N_{1}}-\\frac{S_{2}^{2}}{N_{2}}}}$$\n",
        "\n",
        "Нулевое распределение: $Т_{N} \\sim St(v))$"
      ]
    },
    {
      "cell_type": "code",
      "execution_count": 35,
      "id": "f86798d9-46bd-4543-9406-dba7079fc2a3",
      "metadata": {
        "colab": {
          "base_uri": "https://localhost:8080/"
        },
        "id": "f86798d9-46bd-4543-9406-dba7079fc2a3",
        "outputId": "0e93c286-3b26-4904-cc59-7ca25fa08b46"
      },
      "outputs": [
        {
          "output_type": "stream",
          "name": "stdout",
          "text": [
            "Гипотеза 1: Мужчины пропускают в течение года более 2 рабочих дней по болезни значимо чаще женщин.\n",
            "p-value: 0.660968339483585\n",
            "statistic: 0.41592499748510986\n"
          ]
        }
      ],
      "source": [
        "t_statistic, p_value = stats.ttest_ind(\n",
        "    data[(data['Пол'] == 'М') & (data['Количество больничных дней'] > 2)]['Количество больничных дней'],\n",
        "    data[(data['Пол'] == 'Ж') & (data['Количество больничных дней'] > 2)]['Количество больничных дней'],\n",
        "    alternative='less'\n",
        ")\n",
        "\n",
        "print('Гипотеза 1: Мужчины пропускают в течение года более 2 рабочих дней по болезни значимо чаще женщин.')\n",
        "print('p-value:', p_value)\n",
        "print('statistic:', t_statistic)"
      ]
    },
    {
      "cell_type": "markdown",
      "id": "444daff7-9f63-4cbf-be1d-521c1d80dbd2",
      "metadata": {
        "tags": [],
        "id": "444daff7-9f63-4cbf-be1d-521c1d80dbd2"
      },
      "source": [
        "По p-value можно судить о том, что у нас нет достаточно доказательств, чтобы отбросить нулевую гипотезу и принять альтернативную гипотезу.\n",
        "\n",
        "Исходя из этих результатов, мы не можем сделать вывод, что мужчины пропускают в течение года более 2 рабочих дней по болезни значимо чаще женщин."
      ]
    },
    {
      "cell_type": "markdown",
      "id": "378bb27a-ad04-426f-9885-9e9c7dd401c2",
      "metadata": {
        "id": "378bb27a-ad04-426f-9885-9e9c7dd401c2"
      },
      "source": [
        "### Приступим к рассмотрению 2 гипотезы: Работники старше 35 лет (age) пропускают в течение года более 2 рабочих дней (work_days) по болезни значимо чаще своих более молодых коллег."
      ]
    },
    {
      "cell_type": "code",
      "execution_count": 27,
      "id": "897fd517-61fe-490e-aec1-5e78714421d8",
      "metadata": {
        "colab": {
          "base_uri": "https://localhost:8080/",
          "height": 718
        },
        "id": "897fd517-61fe-490e-aec1-5e78714421d8",
        "outputId": "b06d8321-62de-4d33-e37f-e71684cf5e9d"
      },
      "outputs": [
        {
          "output_type": "display_data",
          "data": {
            "text/plain": [
              "<Figure size 1200x800 with 1 Axes>"
            ],
            "image/png": "[encoded data removed]"
          },
          "metadata": {}
        }
      ],
      "source": [
        "plt.figure(figsize=(12, 8))\n",
        "sns.boxplot(x='Возраст', y='Количество больничных дней', data=data)\n",
        "plt.title('Распределение пропущенных дней по возрасту')\n",
        "plt.show()"
      ]
    },
    {
      "cell_type": "code",
      "execution_count": 24,
      "id": "a9cf0769-b0b6-4d02-9d49-8f2af6a11ed1",
      "metadata": {
        "id": "a9cf0769-b0b6-4d02-9d49-8f2af6a11ed1"
      },
      "outputs": [],
      "source": [
        "# Разделим данные на подвыборки по трешхолду\n",
        "Aged = data[data['Возраст'] > 36]['Количество больничных дней']\n",
        "Young = data[data['Возраст'] <= 36]['Количество больничных дней']\n",
        "\n",
        "Aged.name = 'В возрасте'\n",
        "Young.name = 'Молодые'"
      ]
    },
    {
      "cell_type": "code",
      "execution_count": 28,
      "id": "65e293b2-231f-432b-8520-86f3d174e24d",
      "metadata": {
        "colab": {
          "base_uri": "https://localhost:8080/",
          "height": 521
        },
        "id": "65e293b2-231f-432b-8520-86f3d174e24d",
        "outputId": "a316d980-bf26-497c-81f3-c49f58d0c49e"
      },
      "outputs": [
        {
          "output_type": "display_data",
          "data": {
            "text/plain": [
              "<Figure size 800x600 with 1 Axes>"
            ],
            "image/png": "[encoded data removed]"
          },
          "metadata": {}
        }
      ],
      "source": [
        "plt.figure(figsize=(8, 6))\n",
        "pd.Series([Aged.size, Young.size], index = [Aged.name, Young.name], name='Age').plot.pie()\n",
        "plt.title('Колличественное отношение классов')\n",
        "plt.show()"
      ]
    },
    {
      "cell_type": "code",
      "execution_count": 29,
      "id": "8bbf056e-f43c-4302-9bd8-e049a1621b2f",
      "metadata": {
        "colab": {
          "base_uri": "https://localhost:8080/",
          "height": 545
        },
        "id": "8bbf056e-f43c-4302-9bd8-e049a1621b2f",
        "outputId": "8b459306-0f16-440c-c9aa-408dd6068aae"
      },
      "outputs": [
        {
          "output_type": "display_data",
          "data": {
            "text/plain": [
              "<Figure size 800x600 with 1 Axes>"
            ],
            "image/png": "[encoded data removed]"
          },
          "metadata": {}
        }
      ],
      "source": [
        "two_hist(Aged, Young, 'возрасту')"
      ]
    },
    {
      "cell_type": "markdown",
      "source": [],
      "metadata": {
        "id": "dQoJnskNOcgG"
      },
      "id": "dQoJnskNOcgG"
    },
    {
      "cell_type": "markdown",
      "source": [
        "###Проверим равенство дисперсии генеральных совокупностей"
      ],
      "metadata": {
        "id": "IUTop0hjOiAH"
      },
      "id": "IUTop0hjOiAH"
    },
    {
      "cell_type": "code",
      "source": [
        "res = stats.fligner(Aged, Young)\n",
        "print('p-value:', res[1])"
      ],
      "metadata": {
        "colab": {
          "base_uri": "https://localhost:8080/"
        },
        "id": "ulBK-LogOSeG",
        "outputId": "e28f2cd8-6dc5-44d9-ac96-c43bc89c5719"
      },
      "id": "ulBK-LogOSeG",
      "execution_count": 33,
      "outputs": [
        {
          "output_type": "stream",
          "name": "stdout",
          "text": [
            "p-value: 0.5587994562254046\n"
          ]
        }
      ]
    },
    {
      "cell_type": "markdown",
      "source": [
        "Мы можем утверждать что дисперсиии равны"
      ],
      "metadata": {
        "id": "YmHwhPn0Opz9"
      },
      "id": "YmHwhPn0Opz9"
    },
    {
      "cell_type": "markdown",
      "source": [],
      "metadata": {
        "id": "Xl3VdvSOOjT1"
      },
      "id": "Xl3VdvSOOjT1"
    },
    {
      "cell_type": "markdown",
      "id": "6c5dd7f2-4003-4e1a-9917-b56f550c7876",
      "metadata": {
        "tags": [],
        "id": "6c5dd7f2-4003-4e1a-9917-b56f550c7876"
      },
      "source": [
        "Произведем сравнение средних по T-критерию, как в прошлом случае:\n",
        "\n",
        "Выдвинем нулевую гипотезу: $μ_{1} \\le μ_{2}$\n",
        "\n",
        "Соответственно, альтернативная гипотеза: $μ_{1}$ > $μ_{2}$"
      ]
    },
    {
      "cell_type": "code",
      "execution_count": 36,
      "id": "ecede3cd",
      "metadata": {
        "colab": {
          "base_uri": "https://localhost:8080/"
        },
        "id": "ecede3cd",
        "outputId": "cf7d9908-22dd-4b0c-ef41-46b3c5685db4"
      },
      "outputs": [
        {
          "output_type": "stream",
          "name": "stdout",
          "text": [
            "Гипотеза 2: Работники старше 35 лет пропускают в течение года более 2 рабочих дней по болезни значимо чаще своих более молодых коллег.\n",
            "p-value: 0.15654372046208234\n",
            "statistic: -1.0121913245936964\n"
          ]
        }
      ],
      "source": [
        "t_statistic, p_value = stats.ttest_ind(\n",
        "    Aged[Aged > 2],\n",
        "    Young[Young > 2],\n",
        "    alternative='less'\n",
        ")\n",
        "\n",
        "print('Гипотеза 2: Работники старше 35 лет пропускают в течение года более 2 рабочих дней по болезни значимо чаще своих более молодых коллег.')\n",
        "print('p-value:', p_value)\n",
        "print('statistic:', t_statistic)"
      ]
    },
    {
      "cell_type": "markdown",
      "id": "8660862c-1296-4d8e-a008-6cee244dc471",
      "metadata": {
        "id": "8660862c-1296-4d8e-a008-6cee244dc471"
      },
      "source": [
        "Полученное значение p-value означает, что у нас нет достаточно доказательств, чтобы отбросить нулевую гипотезу и принять альтернативную гипотезу.\n",
        "Исходя из этих результатов, мы не можем сделать вывод, что работники старше 35 лет пропускают в течение года более 2 рабочих дней по болезни значимо чаще своих более молодых коллег.\n",
        "Мы не имеем статистически значимых доказательств в пользу этой альтернативной гипотезы."
      ]
    }
  ],
  "metadata": {
    "kernelspec": {
      "display_name": "Python 3 (ipykernel)",
      "language": "python",
      "name": "python3"
    },
    "language_info": {
      "codemirror_mode": {
        "name": "ipython",
        "version": 3
      },
      "file_extension": ".py",
      "mimetype": "text/x-python",
      "name": "python",
      "nbconvert_exporter": "python",
      "pygments_lexer": "ipython3",
      "version": "3.8.10"
    },
    "colab": {
      "provenance": [],
      "toc_visible": true
    }
  },
  "nbformat": 4,
  "nbformat_minor": 5
}